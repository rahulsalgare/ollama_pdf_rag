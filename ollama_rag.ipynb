{
 "cells": [
  {
   "cell_type": "markdown",
   "id": "1e8e9e8d-e054-4e5f-be1e-faab2da62019",
   "metadata": {},
   "source": [
    "# Ingesting PDF"
   ]
  },
  {
   "cell_type": "code",
   "execution_count": null,
   "id": "f4321669-411a-49b1-b59e-bff46ace2445",
   "metadata": {},
   "outputs": [],
   "source": [
    "!pip install  unstructured langchain\n",
    "!pip install \"unstructured[all-docs]\""
   ]
  },
  {
   "cell_type": "code",
   "execution_count": null,
   "id": "e8b1594a-9ea9-464e-ace6-e628aa892593",
   "metadata": {},
   "outputs": [],
   "source": [
    "pip install langchain-community langchain-core"
   ]
  },
  {
   "cell_type": "code",
   "execution_count": 46,
   "id": "e21d826b-5a4d-4340-9ae2-0a03b8337f51",
   "metadata": {},
   "outputs": [],
   "source": [
    "from langchain_community.document_loaders import UnstructuredPDFLoader\n",
    "from langchain_community.document_loaders import OnlinePDFLoader"
   ]
  },
  {
   "cell_type": "code",
   "execution_count": 47,
   "id": "7d3758de-6b56-4590-9dff-36213c3fc1ff",
   "metadata": {},
   "outputs": [],
   "source": [
    "local_path = \"meta.pdf\"\n",
    "\n",
    "if local_path:\n",
    "    loader = UnstructuredPDFLoader(file_path=local_path)\n",
    "    data = loader.load()\n",
    "else:\n",
    "    print(\"Upload a pdf file\")"
   ]
  },
  {
   "cell_type": "code",
   "execution_count": 48,
   "id": "70ee36cd-5ab5-4b8c-93e8-1a3684c14a59",
   "metadata": {},
   "outputs": [
    {
     "data": {
      "text/plain": [
       "'NEWS RELEASE\\n\\nMeta Reports Fourth Quarter and Full Year 2024 Results\\n\\nMENLO PARK, Calif., Jan. 29, 2025 /PRNewswire/ -- Meta Platforms, Inc. (Nasdaq: META) today reported \\x00nancial\\n\\nresults for the quarter and full year ended December 31, 2024.\\n\\n\"We continue to make good progress on AI, glasses, and the future of social media,\" said Mark Zuckerberg, Meta\\n\\nfounder and CEO. \"I\\'m excited to see these e\\x00orts scale further in 2025.\"\\n\\nFourth Quarter and Full Year 2024 Financial Highlights\\n\\nThree Months Ended December 31,\\n\\nTwelve Months Ended December 31,\\n\\nIn millions, except percentages and per share amounts\\n\\n2024\\n\\n2023\\n\\n% Change\\n\\n2024\\n\\n2023\\n\\n% Change\\n\\nRevenue\\n\\nCosts and expenses\\n\\nIncome from operations\\n\\nOperating margin\\n\\nProvision for income taxes\\n\\nEffective tax rate\\n\\nNet income\\n\\nDiluted earnings per share (EPS)\\n\\n$ 48,385 25,020 $ 23,365 48 % $ 2,715 12 % $ 20,838 $ 8.02\\n\\n$ 40,111 23,727 $ 16,384 41 % $ 2,791 17 % $ 14,017 $ 5.33\\n\\n21 % 5 % 43 %\\n\\n(3) %\\n\\n49 % 50 %\\n\\n$ 164,501 95,121 $ 69,380 42 % $ 8,303 12 % $ 62,360 $ 23.86\\n\\n$ 134,902 88,151 $ 46,751 35 % $ 8,330 18 % $ 39,098 $ 14.87\\n\\n22 %\\n\\n8 %\\n\\n48 %\\n\\n— %\\n\\n59 %\\n\\n60 %\\n\\nFourth Quarter and Full Year 2024 Operational and Other Financial Highlights\\n\\nFamily daily active people (DAP) – DAP was 3.35 billion on average for December 2024, an increase of 5% year-\\n\\nover-year.\\n\\nAd impressions – Ad impressions delivered across our Family of Apps increased by 6% and 11% year-over-\\n\\nyear for the fourth quarter and full year 2024, respectively.\\n\\nAverage price per ad – Average price per ad increased by 14% and 10% year-over-year for the fourth quarter\\n\\nand full year 2024, respectively.\\n\\nRevenue – Revenue was $48.39 billion and $164.50 billion, representing increases of 21% and 22% year-over-\\n\\nyear for the fourth quarter and full year 2024, respectively. Revenue on a constant currency basis would have\\n\\nincreased 21% and 23% year-over-year for the fourth quarter and full year 2024, respectively.\\n\\nCosts and expenses – Total costs and expenses were $25.02 billion and $95.12 billion, representing increases\\n\\nof 5% and 8% year-over-year for the fourth quarter and full year 2024, respectively. The fourth quarter costs\\n\\nand expenses included a favorable impact of $1.55 billion due to a decrease in the accrued losses for certain\\n\\nlegal proceedings.\\n\\nCapital expenditures – Capital expenditures, including principal payments on \\x00nance leases, were $14.84\\n\\nbillion and $39.23 billion for the fourth quarter and full year 2024, respectively.\\n\\nCapital return program – Share repurchases of our Class A common stock were nil and $29.75 billion, and\\n\\n1\\n\\ntotal dividend and dividend equivalent payments were $1.27 billion and $5.07 billion for the fourth quarter\\n\\nand full year 2024, respectively.\\n\\nCash, cash equivalents, and marketable securities – Cash, cash equivalents, and marketable securities were\\n\\n$77.81 billion as of December 31, 2024. Free cash \\x00ow was $13.15 billion and $52.10 billion for the fourth\\n\\nquarter and full year 2024, respectively.\\n\\nLong-term debt – Long-term debt was $28.83 billion as of December 31, 2024.\\n\\nHeadcount – Headcount was 74,067 as of December 31, 2024, an increase of 10% year-over-year.\\n\\nCFO Outlook Commentary\\n\\nWe expect \\x00rst quarter 2025 total revenue to be in the range of $39.5-41.8 billion. This re\\x00ects 8-15% year-over-\\n\\nyear growth, or 11-18% growth on a constant currency basis as our guidance assumes foreign currency is an\\n\\napproximately 3% headwind to year-over-year total revenue growth, based on current exchange rates. This also\\n\\nre\\x00ects the e\\x00ect of lapping leap day in the \\x00rst quarter of 2024. While we are not providing a full year 2025\\n\\nrevenue outlook, we expect the investments we are making in our core business this year will give us an\\n\\nopportunity to continue delivering strong revenue growth throughout 2025.\\n\\nWe expect full year 2025 total expenses to be in the range of $114-119 billion. We expect the single largest driver of\\n\\nexpense growth in 2025 to be infrastructure costs, driven by higher operating expenses and depreciation(1). We\\n\\nexpect employee compensation to be the second-largest factor as we add technical talent in the priority areas of\\n\\ninfrastructure, monetization, Reality Labs, generative arti\\x00cial intelligence (AI), as well as regulation and compliance.\\n\\nWe anticipate our full year 2025 capital expenditures will be in the range of $60-65 billion. We expect capital\\n\\nexpenditures growth in 2025 will be driven by increased investment to support both our generative AI e\\x00orts and\\n\\ncore business. The majority of our capital expenditures in 2025 will continue to be directed to our core business.\\n\\nAbsent any changes to our tax landscape, we expect our full year 2025 tax rate to be in the range of 12-15%.\\n\\nIn addition, we continue to monitor an active regulatory landscape, including legal and regulatory headwinds in the\\n\\nEU and the U.S. that could signi\\x00cantly impact our business and our \\x00nancial results.\\n\\n________________________\\n\\n(1) In January 2025, we completed an assessment of the useful lives of certain servers and network assets, which resulted in an increase in their estimated useful life to 5.5 years, effective beginning fiscal year 2025. Based on the servers and network assets placed in service as of December 31, 2024, we expect this change in accounting estimate will reduce our full year 2025 depreciation expense by approximately $2.9 billion. This is factored into our outlook.\\n\\nWebcast and Conference Call Information\\n\\nMeta will host a conference call to discuss the results at 2:00 p.m. PT / 5:00 p.m. ET today. The live webcast of\\n\\nMeta\\'s earnings conference call can be accessed at the Meta Investor Relations website at investor.atmeta.com,\\n\\nalong with the earnings press release, \\x00nancial tables, and slide presentation.\\n\\nFollowing the call, a replay will be available at the same website. Transcripts of conference calls with publishing\\n\\nequity research analysts held today will also be posted to the investor.atmeta.com website.\\n\\n2\\n\\nDisclosure Information\\n\\nMeta uses the investor.atmeta.com and about.fb.com/news/ websites as well as Mark Zuckerberg\\'s Facebook\\n\\nPage (facebook.com/zuck), Instagram account (instagram.com/zuck) and Threads pro\\x00le (threads.net/zuck) as\\n\\nmeans of disclosing material non-public information and for complying with its disclosure obligations under\\n\\nRegulation FD.\\n\\nAbout Meta\\n\\nMeta is building the future of human connection and the technology that makes it possible. When Facebook\\n\\nlaunched in 2004, it changed the way people connect. Apps like Messenger, Instagram, and WhatsApp further\\n\\nempowered billions around the world. Now, Meta is moving beyond 2D screens toward immersive experiences like\\n\\naugmented and virtual reality to help build the next evolution in social technology.\\n\\nContacts\\n\\nInvestors:\\n\\nKenneth Dorell\\n\\ninvestor@meta.com / investor.atmeta.com\\n\\nPress:\\n\\nAshley Zandy\\n\\npress@meta.com / about.fb.com/news/\\n\\nForward-Looking Statements\\n\\nThis press release contains forward-looking statements regarding our future business plans and expectations.\\n\\nThese forward-looking statements are only predictions and may di\\x00er materially from actual results due to a variety\\n\\nof factors including: the impact of macroeconomic conditions on our business and \\x00nancial results, including as a\\n\\nresult of geopolitical events; our ability to retain or increase users and engagement levels; our reliance on\\n\\nadvertising revenue; our dependency on data signals and mobile operating systems, networks, and standards that\\n\\nwe do not control; changes to the content or application of third-party policies that impact our advertising\\n\\npractices; risks associated with new products and changes to existing products as well as other new business\\n\\ninitiatives, including our arti\\x00cial intelligence initiatives and metaverse e\\x00orts; our emphasis on community growth\\n\\nand engagement and the user experience over short-term \\x00nancial results; maintaining and enhancing our brand\\n\\nand reputation; our ongoing privacy, safety, security, and content and advertising review and enforcement e\\x00orts;\\n\\ncompetition; risks associated with government actions that could restrict access to our products or impair our\\n\\nability to sell advertising in certain countries; litigation and government inquiries; privacy, legislative, and regulatory\\n\\nconcerns or developments; risks associated with acquisitions; security breaches; our ability to manage our scale\\n\\nand geographically-dispersed operations; and market conditions or other factors a\\x00ecting the payment of\\n\\ndividends. These and other potential risks and uncertainties that could cause actual results to di\\x00er from the\\n\\nresults predicted are more fully detailed under the caption \"Risk Factors\" in our Quarterly Report on Form 10-Q\\n\\n3\\n\\n\\x00led with the SEC on October 31, 2024, which is available on our Investor Relations website at\\n\\ninvestor.atmeta.com and on the SEC website at www.sec.gov. Additional information will also be set forth in our\\n\\nAnnual Report on Form 10-K for the year ended December 31, 2024. In addition, please note that the date of this\\n\\npress release is January 29, 2025, and any forward-looking statements contained herein are based on assumptions\\n\\nthat we believe to be reasonable as of this date. We undertake no obligation to update these statements as a result\\n\\nof new information or future events.\\n\\nFor a discussion of limitations in the measurement of certain of our community metrics, see the section entitled\\n\\n\"Limitations of Key Metrics and Other Data\" in our most recent quarterly or annual report \\x00led with the SEC.\\n\\nNon-GAAP Financial Measures\\n\\nTo supplement our condensed consolidated \\x00nancial statements, which are prepared and presented in accordance\\n\\nwith generally accepted accounting principles in the United States (GAAP), we use the following non-GAAP \\x00nancial\\n\\nmeasures: revenue excluding foreign exchange e\\x00ect, advertising revenue excluding foreign exchange e\\x00ect, and\\n\\nfree cash \\x00ow. The presentation of these \\x00nancial measures is not intended to be considered in isolation or as a\\n\\nsubstitute for, or superior to, \\x00nancial information prepared and presented in accordance with GAAP. Investors are\\n\\ncautioned that there are material limitations associated with the use of non-GAAP \\x00nancial measures as an\\n\\nanalytical tool. In addition, these measures may be di\\x00erent from non-GAAP \\x00nancial measures used by other\\n\\ncompanies, limiting their usefulness for comparison purposes. We compensate for these limitations by providing\\n\\nspeci\\x00c information regarding the GAAP amounts excluded from these non-GAAP \\x00nancial measures.\\n\\nWe believe these non-GAAP \\x00nancial measures provide investors with useful supplemental information about the\\n\\n\\x00nancial performance of our business, enable comparison of \\x00nancial results between periods where certain items\\n\\nmay vary independent of business performance, and allow for greater transparency with respect to key metrics\\n\\nused by management in operating our business.\\n\\nOur non-GAAP \\x00nancial measures are adjusted for the following items:\\n\\nForeign exchange e\\x00ect on revenue. We translated revenue for the three months and full year ended December 31,\\n\\n2024 using the prior year\\'s monthly exchange rates for our settlement or billing currencies other than the U.S.\\n\\ndollar, which we believe is a useful metric that facilitates comparison to our historical performance.\\n\\nPurchases of property and equipment; Principal payments on \\x00nance leases. We subtract both purchases of\\n\\nproperty and equipment, and principal payments on \\x00nance leases in our calculation of free cash \\x00ow because we\\n\\nbelieve that these two items collectively represent the amount of property and equipment we need to procure to\\n\\nsupport our business, regardless of whether we procure such property or equipment with a \\x00nance lease. We\\n\\nbelieve that this methodology can provide useful supplemental information to help investors better understand\\n\\nunderlying trends in our business. Free cash \\x00ow is not intended to represent our residual cash \\x00ow available for\\n\\ndiscretionary expenditures.\\n\\nFor more information on our non-GAAP \\x00nancial measures and a reconciliation of GAAP to non-GAAP measures,\\n\\nplease see the \"Reconciliation of GAAP to Non-GAAP Results\" table in this press release.\\n\\n4\\n\\nMETA PLATFORMS, INC. CONDENSED CONSOLIDATED STATEMENTS OF INCOME (In millions, except per share amounts)\\n\\n(Unaudited)\\n\\nThree Months Ended December 31, Twelve Months Ended December 31,\\n\\n2024\\n\\n2023\\n\\n2024\\n\\n2023\\n\\nRevenue Costs and expenses: Cost of revenue\\n\\nResearch and development\\n\\nMarketing and sales\\n\\nGeneral and administrative(1) Total costs and expenses Income from operations Interest and other income, net\\n\\nIncome before provision for income taxes\\n\\nProvision for income taxes Net income Earnings per share: Basic\\n\\nDiluted Weighted-average shares used to compute earnings per share: Basic\\n\\nDiluted\\n\\n$ 48,385\\n\\n8,839 12,180 3,240 761\\n\\n25,020\\n\\n23,365 188 23,553 2,715\\n\\n$ 20,838\\n\\n$ 8.24 $ 8.02\\n\\n2,529 2,599\\n\\n$ 40,111\\n\\n7,695 10,517 3,226 2,289\\n\\n23,727\\n\\n16,384 424 16,808 2,791\\n\\n$ 14,017\\n\\n$ 5.46 $ 5.33\\n\\n2,566 2,630\\n\\n$ 164,501\\n\\n30,161 43,873 11,347 9,740\\n\\n95,121\\n\\n69,380 1,283 70,663 8,303\\n\\n$ 62,360\\n\\n$ 24.61 $ 23.86\\n\\n2,534 2,614\\n\\n$ 134,902\\n\\n25,959\\n\\n38,483\\n\\n12,301\\n\\n11,408\\n\\n88,151\\n\\n46,751\\n\\n677\\n\\n47,428\\n\\n8,330\\n\\n$ 39,098\\n\\n$ 15.19\\n\\n$ 14.87\\n\\n2,574\\n\\n2,629\\n\\n____________________________________\\n\\n(1) The fourth quarter 2024 general and administrative expenses include a favorable impact of $1.55 billion due to a decrease in the accrued losses for certain legal proceedings.\\n\\nMETA PLATFORMS, INC. CONDENSED CONSOLIDATED BALANCE SHEETS (In millions)\\n\\n(Unaudited)\\n\\nDecember 31, 2024 December 31, 2023\\n\\nAssets Current assets:\\n\\nCash and cash equivalents\\n\\nMarketable securities\\n\\nAccounts receivable, net\\n\\nPrepaid expenses and other current assets\\n\\nTotal current assets\\n\\nNon-marketable equity securities\\n\\nProperty and equipment, net\\n\\nOperating lease right-of-use assets\\n\\nGoodwill\\n\\n$ 43,889 33,926 16,994 5,236 100,045 6,070 121,346 14,922 20,654 13,017\\n\\n$ 41,862\\n\\n23,541\\n\\n16,169\\n\\n3,793\\n\\n85,365\\n\\n6,141\\n\\n96,587\\n\\n13,294\\n\\n20,654\\n\\nOther assets Total assets\\n\\n$ 276,054\\n\\n7,582\\n\\n$ 229,623\\n\\nLiabilities and stockholders\\' equity Current liabilities:\\n\\nAccounts payable\\n\\nOperating lease liabilities, current\\n\\nAccrued expenses and other current liabilities\\n\\nTotal current liabilities\\n\\n$ 7,687 1,942 23,967 33,596\\n\\n$ 4,849\\n\\n1,623\\n\\n25,488\\n\\n31,960\\n\\n5\\n\\nOperating lease liabilities, non-current\\n\\nLong-term debt\\n\\nLong-term income taxes\\n\\nOther liabilities\\n\\nTotal liabilities\\n\\n18,292 28,826 9,987 2,716 93,417\\n\\n17,226\\n\\n18,385\\n\\n7,514\\n\\n1,370\\n\\n76,455\\n\\nCommitments and contingencies\\n\\nStockholders\\' equity:\\n\\nCommon stock and additional paid-in capital\\n\\nAccumulated other comprehensive loss\\n\\nRetained earnings\\n\\nTotal stockholders\\' equity Total liabilities and stockholders\\' equity\\n\\n83,228 (3,097) 102,506 182,637\\n\\n$ 276,054\\n\\n73,253\\n\\n(2,155)\\n\\n82,070\\n\\n153,168\\n\\n$ 229,623\\n\\nMETA PLATFORMS, INC. CONDENSED CONSOLIDATED STATEMENTS OF CASH FLOWS (In millions)\\n\\n(Unaudited)\\n\\nThree Months Ended December 31,\\n\\nTwelve Months Ended December 31,\\n\\n2024\\n\\n2023\\n\\n2024\\n\\n2023\\n\\nCash flows from operating activities Net income\\n\\n$ 20,838 $ 14,017 $ 62,360 $ 39,098\\n\\nAdjustments to reconcile net income to net cash provided by operating activities:\\n\\nDepreciation and amortization\\n\\nShare-based compensation\\n\\nDeferred income taxes\\n\\nImpairment charges for facilities consolidation\\n\\nData center assets abandonment\\n\\nOther\\n\\n4,460 4,262 (1,332) 94 — 169\\n\\n3,172 3,424 (1,161) 1,091 7 124\\n\\n15,498 16,690 (4,738) 383 — 87\\n\\n11,178\\n\\n14,027\\n\\n131\\n\\n2,432\\n\\n(224)\\n\\n635\\n\\nChanges in assets and liabilities:\\n\\nAccounts receivable\\n\\nPrepaid expenses and other current assets\\n\\nOther assets\\n\\nAccounts payable\\n\\nAccrued expenses and other current liabilities\\n\\nOther liabilities Net cash provided by operating activities Cash flows from investing activities Purchases of property and equipment\\n\\nPurchases of marketable securities\\n\\nSales and maturities of marketable securities\\n\\nAcquisitions of businesses and intangible assets\\n\\nOther investing activities Net cash used in investing activities Cash flows from financing activities Taxes paid related to net share settlement of equity awards\\n\\nRepurchases of Class A common stock\\n\\nPayments for dividends and dividend equivalents\\n\\nProceeds from issuance of long-term debt, net\\n\\nPrincipal payments on finance leases\\n\\nOther financing activities Net cash used in financing activities Effect of exchange rate changes on cash, cash equivalents, and restricted cash\\n\\nNet increase in cash, cash equivalents, and restricted cash\\n\\nCash, cash equivalents, and restricted cash at beginning of the period Cash, cash equivalents, and restricted cash at end of the period Reconciliation of cash, cash equivalents, and restricted cash to the condensed consolidated balance sheets Cash and cash equivalents\\n\\nRestricted cash, included in prepaid expenses and other current assets\\n\\n(2,978) (530) (200) 568 1,523 1,114\\n\\n(2,843) 700 (111) 595 (274) 663\\n\\n(1,485) (698) (270) 373 323 2,805\\n\\n(2,399)\\n\\n559\\n\\n(80)\\n\\n51\\n\\n5,081\\n\\n624\\n\\n27,988\\n\\n19,404\\n\\n91,328\\n\\n71,113\\n\\n(14,425) (10,898) 3,817 (9) 17\\n\\n(7,592) (1,171) 2,359 (64) (4)\\n\\n(37,256) (25,542) 15,789 (270) 129\\n\\n(27,045)\\n\\n(2,982)\\n\\n6,184\\n\\n(629)\\n\\n(23)\\n\\n(21,498)\\n\\n(6,472)\\n\\n(47,150)\\n\\n(24,495)\\n\\n(3,857) — (1,269) — (411) 72\\n\\n(2,223) (5,942) — — (307) 71\\n\\n(13,770) (30,125) (5,072) 10,432 (1,969) (277)\\n\\n(7,012)\\n\\n(19,774)\\n\\n—\\n\\n8,455\\n\\n(1,058)\\n\\n(111)\\n\\n(5,465) (714) 311 45,127\\n\\n(8,401) 396 4,927 37,900\\n\\n(40,781) (786) 2,611 42,827\\n\\n(19,500)\\n\\n113\\n\\n27,231\\n\\n15,596\\n\\n$ 45,438 $ 42,827 $ 45,438 $ 42,827\\n\\n$ 43,889 $ 41,862 $ 43,889 $ 41,862 99\\n\\n353\\n\\n99\\n\\n353\\n\\n6\\n\\nRestricted cash, included in other assets Total cash, cash equivalents, and restricted cash\\n\\n1,196\\n\\n866\\n\\n1,196\\n\\n$ 45,438 $ 42,827 $ 45,438 $ 42,827\\n\\n866\\n\\nMETA PLATFORMS, INC. CONDENSED CONSOLIDATED STATEMENTS OF CASH FLOWS (In millions)\\n\\n(Unaudited)\\n\\nThree Months Ended December 31,\\n\\nTwelve Months Ended December 31,\\n\\n2024\\n\\n2023\\n\\n2024\\n\\n2023\\n\\nSupplemental cash flow data Cash paid for income taxes, net\\n\\nCash paid for interest, net of amounts capitalized\\n\\n$ 2,227 $ 4,591 $ 10,554 $ 6,607 $ 131 $ 146 $ 486 $ 448\\n\\nNon-cash investing and financing activities:\\n\\nProperty and equipment in accounts payable and accrued expenses and other current liabilities\\n\\n$ 7,127 $ 4,105 $ 7,127 $ 4,105\\n\\nAcquisition of businesses and intangible assets in accrued expenses and other current liabilities and other liabilities\\n\\n$ 172 $ 119 $ 172 $ 119\\n\\nRepurchases of Class A common stock in accrued expenses and other current liabilities\\n\\n$ — $ 474 $ — $ 474\\n\\nSegment Results\\n\\nWe report our \\x00nancial results for our two reportable segments: Family of Apps (FoA) and Reality Labs (RL). FoA\\n\\nincludes Facebook, Instagram, Messenger, WhatsApp, and other services. RL includes our virtual, augmented, and\\n\\nmixed reality related consumer hardware, software, and content.\\n\\nThe following table presents our segment information of revenue and income (loss) from operations:\\n\\nSegment Information (In millions)\\n\\n(Unaudited)\\n\\nThree Months Ended December 31,\\n\\nTwelve Months Ended December 31,\\n\\n2024\\n\\n2023\\n\\n2024\\n\\n2023\\n\\nRevenue:\\n\\nAdvertising\\n\\nOther revenue\\n\\nFamily of Apps\\n\\nReality Labs\\n\\nTotal revenue\\n\\n$ 46,783 $ 38,706 $ 160,633 $ 131,948 1,058\\n\\n519 47,302 1,083\\n\\n334 39,040 1,071\\n\\n1,722 162,355 2,146\\n\\n133,006\\n\\n1,896 $ 48,385 $ 40,111 $ 164,501 $ 134,902\\n\\nIncome (loss) from operations:\\n\\nFamily of Apps\\n\\nReality Labs\\n\\nTotal income from operations\\n\\n$ 28,332 $ 21,030 $ 87,109 $ 62,871 (16,120) $ 23,365 $ 16,384 $ 69,380 $ 46,751\\n\\n(4,967)\\n\\n(4,646)\\n\\n(17,729)\\n\\n7\\n\\nReconciliation of GAAP to Non-GAAP Results (In millions, except percentages)\\n\\n(Unaudited)\\n\\nThree Months Ended December 31,\\n\\nTwelve Months Ended December 31,\\n\\n2024\\n\\n2023\\n\\n2024\\n\\n2023\\n\\nGAAP revenue\\n\\n$ 48,385 $ 40,111 $ 164,501 $ 134,902\\n\\nForeign exchange effect on 2024 revenue using 2023 rates\\n\\nRevenue excluding foreign exchange effect\\n\\nGAAP revenue year-over-year change %\\n\\nRevenue excluding foreign exchange effect year-over-year change %\\n\\n65 $ 48,450 21 % 21 %\\n\\n874 $ 165,375 22 % 23 %\\n\\nGAAP advertising revenue\\n\\n$ 46,783 $ 38,706 $ 160,633 $ 131,948\\n\\nForeign exchange effect on 2024 advertising revenue using 2023 rates\\n\\nAdvertising revenue excluding foreign exchange effect\\n\\nGAAP advertising revenue year-over-year change %\\n\\nAdvertising revenue excluding foreign exchange effect year-over-year change %\\n\\n81 $ 46,864 21 % 21 %\\n\\n880 $ 161,513 22 % 22 %\\n\\nNet cash provided by operating activities\\n\\nPurchases of property and equipment\\n\\nPrincipal payments on finance leases\\n\\nFree cash flow\\n\\n$ 27,988 $ 19,404 $ 91,328 $ 71,113 (27,045)\\n\\n(14,425) (411)\\n\\n(7,592) (307)\\n\\n(37,256) (1,969)\\n\\n(1,058) $ 13,152 $ 11,505 $ 52,103 $ 43,010\\n\\nView original content to download multimedia:https://www.prnewswire.com/news-releases/meta-reports-fourth-\\n\\nquarter-and-full-year-2024-results-302363791.html\\n\\nSOURCE Meta\\n\\n8'"
      ]
     },
     "execution_count": 48,
     "metadata": {},
     "output_type": "execute_result"
    }
   ],
   "source": [
    "data[0].page_content"
   ]
  },
  {
   "cell_type": "code",
   "execution_count": null,
   "id": "e9187abb-527d-40ac-9504-bb3c9fd9f8aa",
   "metadata": {},
   "outputs": [],
   "source": []
  },
  {
   "cell_type": "markdown",
   "id": "f7e929d8-0809-488e-9008-3f9d08766015",
   "metadata": {},
   "source": [
    "# Vector Embeddings"
   ]
  },
  {
   "cell_type": "code",
   "execution_count": 29,
   "id": "2dc8796c-8c6e-43c9-bb98-fb316bbe5160",
   "metadata": {},
   "outputs": [
    {
     "name": "stdout",
     "output_type": "stream",
     "text": [
      "\u001b[?2026h\u001b[?25l\u001b[1Gpulling manifest ⠋ \u001b[K\u001b[?25h\u001b[?2026l\u001b[?2026h\u001b[?25l\u001b[1Gpulling manifest ⠙ \u001b[K\u001b[?25h\u001b[?2026l\u001b[?2026h\u001b[?25l\u001b[1Gpulling manifest ⠹ \u001b[K\u001b[?25h\u001b[?2026l\u001b[?2026h\u001b[?25l\u001b[1Gpulling manifest ⠸ \u001b[K\u001b[?25h\u001b[?2026l\u001b[?2026h\u001b[?25l\u001b[1Gpulling manifest ⠴ \u001b[K\u001b[?25h\u001b[?2026l\u001b[?2026h\u001b[?25l\u001b[1Gpulling manifest ⠴ \u001b[K\u001b[?25h\u001b[?2026l\u001b[?2026h\u001b[?25l\u001b[1Gpulling manifest ⠧ \u001b[K\u001b[?25h\u001b[?2026l\u001b[?2026h\u001b[?25l\u001b[1Gpulling manifest ⠇ \u001b[K\u001b[?25h\u001b[?2026l\u001b[?2026h\u001b[?25l\u001b[1Gpulling manifest ⠏ \u001b[K\u001b[?25h\u001b[?2026l\u001b[?2026h\u001b[?25l\u001b[1Gpulling manifest ⠋ \u001b[K\u001b[?25h\u001b[?2026l\u001b[?2026h\u001b[?25l\u001b[1Gpulling manifest ⠙ \u001b[K\u001b[?25h\u001b[?2026l\u001b[?2026h\u001b[?25l\u001b[1Gpulling manifest ⠹ \u001b[K\u001b[?25h\u001b[?2026l\u001b[?2026h\u001b[?25l\u001b[1Gpulling manifest ⠸ \u001b[K\u001b[?25h\u001b[?2026l\u001b[?2026h\u001b[?25l\u001b[1Gpulling manifest ⠼ \u001b[K\u001b[?25h\u001b[?2026l\u001b[?2026h\u001b[?25l\u001b[1Gpulling manifest ⠴ \u001b[K\u001b[?25h\u001b[?2026l\u001b[?2026h\u001b[?25l\u001b[1Gpulling manifest ⠦ \u001b[K\u001b[?25h\u001b[?2026l\u001b[?2026h\u001b[?25l\u001b[1Gpulling manifest ⠧ \u001b[K\u001b[?25h\u001b[?2026l\u001b[?2026h\u001b[?25l\u001b[1Gpulling manifest ⠇ \u001b[K\u001b[?25h\u001b[?2026l\u001b[?2026h\u001b[?25l\u001b[1Gpulling manifest ⠏ \u001b[K\u001b[?25h\u001b[?2026l\u001b[?2026h\u001b[?25l\u001b[1Gpulling manifest ⠋ \u001b[K\u001b[?25h\u001b[?2026l\u001b[?2026h\u001b[?25l\u001b[1Gpulling manifest ⠋ \u001b[K\u001b[?25h\u001b[?2026l\u001b[?2026h\u001b[?25l\u001b[1Gpulling manifest ⠙ \u001b[K\u001b[?25h\u001b[?2026l\u001b[?2026h\u001b[?25l\u001b[1Gpulling manifest ⠸ \u001b[K\u001b[?25h\u001b[?2026l\u001b[?2026h\u001b[?25l\u001b[1Gpulling manifest \u001b[K\n",
      "pulling 970aa74c0a90... 100% ▕████████████████▏ 274 MB                         \u001b[K\n",
      "pulling c71d239df917... 100% ▕████████████████▏  11 KB                         \u001b[K\n",
      "pulling ce4a164fc046... 100% ▕████████████████▏   17 B                         \u001b[K\n",
      "pulling 31df23ea7daa... 100% ▕████████████████▏  420 B                         \u001b[K\n",
      "verifying sha256 digest \u001b[K\n",
      "writing manifest \u001b[K\n",
      "success \u001b[K\u001b[?25h\u001b[?2026l\n"
     ]
    }
   ],
   "source": [
    "!ollama pull nomic-embed-text"
   ]
  },
  {
   "cell_type": "code",
   "execution_count": null,
   "id": "b8b5422a-4e69-4c98-b395-2c7d4d962498",
   "metadata": {},
   "outputs": [],
   "source": [
    "!pip install chromadb\n",
    "!pip install langchain-text-splitters"
   ]
  },
  {
   "cell_type": "code",
   "execution_count": 49,
   "id": "97eda893-98a5-4fe0-8eb5-dbc493643c4b",
   "metadata": {},
   "outputs": [
    {
     "name": "stdout",
     "output_type": "stream",
     "text": [
      "NAME                       ID              SIZE      MODIFIED       \n",
      "mistral:latest             f974a74358d6    4.1 GB    9 minutes ago     \n",
      "nomic-embed-text:latest    0a109f422b47    274 MB    27 minutes ago    \n"
     ]
    }
   ],
   "source": [
    "!ollama list"
   ]
  },
  {
   "cell_type": "code",
   "execution_count": 50,
   "id": "dd4d77b3-efe5-417f-8111-753abd5883ee",
   "metadata": {},
   "outputs": [],
   "source": [
    "from langchain_community.embeddings import OllamaEmbeddings\n",
    "from langchain_text_splitters import RecursiveCharacterTextSplitter\n",
    "from langchain_community.vectorstores import Chroma"
   ]
  },
  {
   "cell_type": "code",
   "execution_count": 51,
   "id": "f8772af4-3953-47eb-bcab-1d27497520db",
   "metadata": {},
   "outputs": [],
   "source": [
    "text_splitter = RecursiveCharacterTextSplitter(chunk_size=7500, chunk_overlap=100)\n",
    "chunks = text_splitter.split_documents(data)"
   ]
  },
  {
   "cell_type": "code",
   "execution_count": 52,
   "id": "e359188b-6000-477b-bf8c-49453be29abb",
   "metadata": {},
   "outputs": [
    {
     "name": "stderr",
     "output_type": "stream",
     "text": [
      "OllamaEmbeddings: 100%|████████████████████████████████████████████████████████████████████████████████████████████████████████████████████| 3/3 [00:33<00:00, 11.04s/it]\n"
     ]
    }
   ],
   "source": [
    "vector_db = Chroma.from_documents(\n",
    "    documents=chunks,\n",
    "    embedding=OllamaEmbeddings(model=\"nomic-embed-text\", show_progress=True),\n",
    "    collection_name=\"local-rag\"\n",
    ")"
   ]
  },
  {
   "cell_type": "markdown",
   "id": "ececc563-6036-43ce-927d-cbffd2877e56",
   "metadata": {},
   "source": [
    "# Retrieval"
   ]
  },
  {
   "cell_type": "code",
   "execution_count": 53,
   "id": "5c6cf6e3-cc18-4d94-8d01-63da9b5b225f",
   "metadata": {},
   "outputs": [],
   "source": [
    "from langchain.prompts import ChatPromptTemplate, PromptTemplate\n",
    "from langchain_core.output_parsers import StrOutputParser\n",
    "from langchain_community.chat_models import ChatOllama\n",
    "from langchain_core.runnables import RunnablePassthrough\n",
    "from langchain.retrievers.multi_query import MultiQueryRetriever"
   ]
  },
  {
   "cell_type": "code",
   "execution_count": 54,
   "id": "ed8d5827-d174-4a42-a121-afdf0e6cbdeb",
   "metadata": {},
   "outputs": [],
   "source": [
    "local_model = \"mistral\"\n",
    "llm = ChatOllama(model=local_model)"
   ]
  },
  {
   "cell_type": "code",
   "execution_count": 55,
   "id": "7bdc3c43-9630-4189-9891-ff1bb78419c2",
   "metadata": {},
   "outputs": [],
   "source": [
    "QUERY_PROMPT = PromptTemplate(\n",
    "    input_variables=[\"question\"],\n",
    "    template=\"\"\"You are an AI language model assistant. Your task is to generate five \n",
    "    different versions of the given user question to retrieve relevant documents from\n",
    "    a vector database. By generating multiple perspectives on the user question, your\n",
    "    goal is to help the user overcome some of the limitations of the distance-based\n",
    "    similarity search. Provide these alternative questions separated by newlines.\n",
    "    Original question: {question}\"\"\",\n",
    ")"
   ]
  },
  {
   "cell_type": "code",
   "execution_count": 56,
   "id": "cdc16a91-0d4b-4148-b6c7-4af36cf9905c",
   "metadata": {},
   "outputs": [],
   "source": [
    "retriever = MultiQueryRetriever.from_llm(\n",
    "    vector_db.as_retriever(),\n",
    "    llm,\n",
    "    prompt=QUERY_PROMPT\n",
    ")\n",
    "\n",
    "template = \"\"\"Answer the question based ONLY on the following context:\n",
    "{context}\n",
    "Question: {question}\n",
    "\"\"\"\n",
    "\n",
    "prompt = ChatPromptTemplate.from_template(template)"
   ]
  },
  {
   "cell_type": "code",
   "execution_count": 57,
   "id": "5b63351b-b4a4-467a-85eb-362f8e6385a1",
   "metadata": {},
   "outputs": [],
   "source": [
    "chain = (\n",
    "    {\"context\": retriever, \"question\": RunnablePassthrough()}\n",
    "    | prompt\n",
    "    | llm\n",
    "    | StrOutputParser()\n",
    ")"
   ]
  },
  {
   "cell_type": "code",
   "execution_count": 58,
   "id": "5ae21a40-0e23-4149-abcb-d110192e9fb0",
   "metadata": {},
   "outputs": [
    {
     "name": "stdin",
     "output_type": "stream",
     "text": [
      " what is this about ?\n"
     ]
    },
    {
     "name": "stderr",
     "output_type": "stream",
     "text": [
      "OllamaEmbeddings: 100%|████████████████████████████████████████████████████████████████████████████████████████████████████████████████████| 1/1 [00:00<00:00,  4.00it/s]\n",
      "OllamaEmbeddings: 100%|████████████████████████████████████████████████████████████████████████████████████████████████████████████████████| 1/1 [00:00<00:00,  3.91it/s]\n",
      "OllamaEmbeddings: 100%|████████████████████████████████████████████████████████████████████████████████████████████████████████████████████| 1/1 [00:00<00:00,  3.22it/s]\n",
      "OllamaEmbeddings: 100%|████████████████████████████████████████████████████████████████████████████████████████████████████████████████████| 1/1 [00:00<00:00,  2.64it/s]\n",
      "OllamaEmbeddings: 100%|████████████████████████████████████████████████████████████████████████████████████████████████████████████████████| 1/1 [00:00<00:00,  2.90it/s]\n"
     ]
    },
    {
     "data": {
      "text/plain": [
       "\" This text appears to be a financial report for META Platforms, Inc. (previously known as Facebook, Inc.) for the fourth quarter of 2024. The report includes income statements and balance sheets that detail the company's revenue, expenses, assets, liabilities, and stockholders' equity.\\n\\n   Key points from the income statement include:\\n   - META Platforms, Inc. reported total revenue of $134,902 million for the fourth quarter of 2024, up from $114,876 million in the same period a year earlier.\\n   - The company's net income for Q4 2024 was $39,098 million, compared to $25,858 million in Q4 2023.\\n   - General and administrative expenses increased by approximately $1.55 billion due to a decrease in the accrued losses for certain legal proceedings.\\n\\n   Key points from the balance sheet include:\\n   - As of December 31, 2024, META Platforms, Inc.'s total assets were $276,054 million, up from $229,623 million at the end of 2023.\\n   - The company's total liabilities and stockholders' equity as of December 31, 2024, were $229,623 million, compared to $73,253 million at the end of 2023.\\n   - Notable assets include cash and cash equivalents ($43,889 million), marketable securities ($41,862 million), property and equipment ($20,654 million), and operating lease right-of-use assets ($96,587 million).\\n   - Notable liabilities include accounts payable ($7,687 million), operating lease liabilities, current ($4,849 million), and long-term debt ($18,292 million).\\n   - The company's stockholders' equity consists of common stock and additional paid-in capital ($83,228 million), accumulated other comprehensive loss (-$3,097 million), and retained earnings ($153,168 million).\""
      ]
     },
     "execution_count": 58,
     "metadata": {},
     "output_type": "execute_result"
    }
   ],
   "source": [
    "chain.invoke(input(\"\"))"
   ]
  },
  {
   "cell_type": "code",
   "execution_count": 59,
   "id": "90090658-a6fd-42ed-bbaf-231dc3aba66d",
   "metadata": {},
   "outputs": [
    {
     "name": "stdin",
     "output_type": "stream",
     "text": [
      "what is the long-term debt of meta ? \n"
     ]
    },
    {
     "name": "stderr",
     "output_type": "stream",
     "text": [
      "OllamaEmbeddings: 100%|████████████████████████████████████████████████████████████████████████████████████████████████████████████████████| 1/1 [00:08<00:00,  8.02s/it]\n",
      "OllamaEmbeddings: 100%|████████████████████████████████████████████████████████████████████████████████████████████████████████████████████| 1/1 [00:00<00:00,  4.33it/s]\n",
      "OllamaEmbeddings: 100%|████████████████████████████████████████████████████████████████████████████████████████████████████████████████████| 1/1 [00:00<00:00,  6.40it/s]\n",
      "OllamaEmbeddings: 100%|████████████████████████████████████████████████████████████████████████████████████████████████████████████████████| 1/1 [00:00<00:00,  7.00it/s]\n",
      "OllamaEmbeddings: 100%|████████████████████████████████████████████████████████████████████████████████████████████████████████████████████| 1/1 [00:00<00:00,  5.32it/s]\n"
     ]
    },
    {
     "data": {
      "text/plain": [
       "' It appears the provided text is a financial report from Meta (formerly Facebook) for their fourth quarter and full year of 2024. Here\\'s an overview of some key points:\\n\\n1. Revenue for the fourth quarter was $46,783 million, with a year-over-year growth of 21%. For the full year, revenue was $164,501 million, also showing a 21% increase compared to the previous year.\\n\\n2. The report includes both GAAP (Generally Accepted Accounting Principles) and non-GAAP financial measures. Non-GAAP income from operations for the fourth quarter was $28,332 million, while the net cash provided by operating activities was $27,988 million.\\n\\n3. The report also mentions that there was a foreign exchange effect on 2024 revenue using 2023 rates. However, the exact numbers and their impact are not explicitly stated in the text you provided.\\n\\n4. There is a segment for \"Family of Apps\" and \"Reality Labs\". The former includes advertising and other revenue, while the latter generates income from operations.\\n\\n5. For the fourth quarter, \"Family of Apps\" generated $28,332 million in income from operations, while \"Reality Labs\" had an income of $21,030 million. The total for both segments was $49,362 million in income from operations.\\n\\n6. The report concludes by providing a source link to download the multimedia content related to this financial report.'"
      ]
     },
     "execution_count": 59,
     "metadata": {},
     "output_type": "execute_result"
    }
   ],
   "source": [
    "chain.invoke(input(\"what is the long-term debt of meta ?\"))"
   ]
  },
  {
   "cell_type": "code",
   "execution_count": null,
   "id": "f5077374-505e-441c-835d-9c4903b9e1d7",
   "metadata": {},
   "outputs": [],
   "source": []
  }
 ],
 "metadata": {
  "kernelspec": {
   "display_name": "Python 3 (ipykernel)",
   "language": "python",
   "name": "python3"
  },
  "language_info": {
   "codemirror_mode": {
    "name": "ipython",
    "version": 3
   },
   "file_extension": ".py",
   "mimetype": "text/x-python",
   "name": "python",
   "nbconvert_exporter": "python",
   "pygments_lexer": "ipython3",
   "version": "3.12.9"
  }
 },
 "nbformat": 4,
 "nbformat_minor": 5
}
